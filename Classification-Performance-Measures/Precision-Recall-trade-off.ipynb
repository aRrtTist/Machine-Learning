{
 "cells": [
  {
   "cell_type": "markdown",
   "metadata": {},
   "source": [
    "# 精准率和召回率的平衡"
   ]
  },
  {
   "cell_type": "code",
   "execution_count": 1,
   "metadata": {},
   "outputs": [],
   "source": [
    "import numpy as np\n",
    "import matplotlib.pyplot as plt"
   ]
  },
  {
   "cell_type": "code",
   "execution_count": 2,
   "metadata": {},
   "outputs": [],
   "source": [
    "from sklearn import datasets\n",
    "digits = datasets.load_digits()\n",
    "X = digits.data\n",
    "y = digits.target.copy()\n",
    "y[digits.target == 9] = 1\n",
    "y[digits.target != 9] = 0"
   ]
  },
  {
   "cell_type": "code",
   "execution_count": 3,
   "metadata": {},
   "outputs": [],
   "source": [
    "from sklearn.model_selection import train_test_split\n",
    "\n",
    "X_train, X_test, y_train, y_test = train_test_split(X, y, random_state=666)"
   ]
  },
  {
   "cell_type": "code",
   "execution_count": 4,
   "metadata": {},
   "outputs": [
    {
     "name": "stderr",
     "output_type": "stream",
     "text": [
      "D:\\ProgramData\\Anaconda3\\lib\\site-packages\\sklearn\\linear_model\\logistic.py:433: FutureWarning: Default solver will be changed to 'lbfgs' in 0.22. Specify a solver to silence this warning.\n",
      "  FutureWarning)\n"
     ]
    },
    {
     "data": {
      "text/plain": [
       "0.9755555555555555"
      ]
     },
     "execution_count": 4,
     "metadata": {},
     "output_type": "execute_result"
    }
   ],
   "source": [
    "from sklearn.linear_model import LogisticRegression\n",
    "\n",
    "log_reg = LogisticRegression()\n",
    "log_reg.fit(X_train, y_train)\n",
    "log_reg.score(X_test, y_test)"
   ]
  },
  {
   "cell_type": "code",
   "execution_count": 5,
   "metadata": {},
   "outputs": [],
   "source": [
    "y_predict = log_reg.predict(X_test)"
   ]
  },
  {
   "cell_type": "code",
   "execution_count": 6,
   "metadata": {},
   "outputs": [
    {
     "data": {
      "text/plain": [
       "array([[403,   2],\n",
       "       [  9,  36]], dtype=int64)"
      ]
     },
     "execution_count": 6,
     "metadata": {},
     "output_type": "execute_result"
    }
   ],
   "source": [
    "from sklearn.metrics import confusion_matrix\n",
    "from sklearn.metrics import precision_score\n",
    "from sklearn.metrics import recall_score\n",
    "\n",
    "confusion_matrix(y_test, y_predict)"
   ]
  },
  {
   "cell_type": "code",
   "execution_count": 7,
   "metadata": {},
   "outputs": [
    {
     "data": {
      "text/plain": [
       "0.8674698795180723"
      ]
     },
     "execution_count": 7,
     "metadata": {},
     "output_type": "execute_result"
    }
   ],
   "source": [
    "from sklearn.metrics import f1_score\n",
    "\n",
    "f1_score(y_test, y_predict)"
   ]
  },
  {
   "cell_type": "code",
   "execution_count": 9,
   "metadata": {},
   "outputs": [
    {
     "data": {
      "text/plain": [
       "0.9473684210526315"
      ]
     },
     "execution_count": 9,
     "metadata": {},
     "output_type": "execute_result"
    }
   ],
   "source": [
    "precision_score(y_test, y_predict)"
   ]
  },
  {
   "cell_type": "code",
   "execution_count": 11,
   "metadata": {},
   "outputs": [
    {
     "data": {
      "text/plain": [
       "0.8"
      ]
     },
     "execution_count": 11,
     "metadata": {},
     "output_type": "execute_result"
    }
   ],
   "source": [
    "recall_score(y_test, y_predict)"
   ]
  },
  {
   "cell_type": "code",
   "execution_count": 12,
   "metadata": {},
   "outputs": [
    {
     "data": {
      "text/plain": [
       "array([-22.05705181, -33.02949573, -16.21340238, -80.37917009,\n",
       "       -48.25125209, -24.54010044, -44.39166152, -25.04298784,\n",
       "        -0.97831701, -19.71745321, -66.2513864 , -51.09609927,\n",
       "       -31.49354859, -46.05334586, -38.6788697 , -29.80474166,\n",
       "       -37.5885736 , -82.57576637, -37.81902892, -11.01172596,\n",
       "        -9.17441466, -85.1300934 , -16.71622699, -46.2373814 ,\n",
       "        -5.33001429, -47.9176172 , -11.66732594, -39.19614376,\n",
       "       -25.25298529, -14.36652407, -16.99787221, -28.91910077,\n",
       "       -34.33945987, -29.47614656,  -7.85819265,  -3.82095014,\n",
       "       -24.08174422, -22.16364571, -33.61231771, -23.14031933,\n",
       "       -26.91810677, -62.38943784, -38.85701958, -66.77268117,\n",
       "       -20.14492423, -17.47892943, -18.06805716, -22.22229886,\n",
       "       -29.62307347, -19.73172345,   1.49545888,   8.32075374,\n",
       "       -36.29320492, -42.50740983, -25.90461737, -34.98965016,\n",
       "        -8.42018324, -50.04725465, -51.48215611,  19.88957373,\n",
       "        -8.91894758, -31.99350749, -11.66107835,  -0.47147038,\n",
       "       -49.16134274, -46.23819237, -25.05396297, -19.61354128,\n",
       "       -36.1665944 ,  -3.12539643,  -3.91421894, -19.06047306,\n",
       "       -21.03318249, -41.52261699, -12.00624056, -33.89282863,\n",
       "       -35.84809857, -30.60489515, -56.51648709, -18.45472506,\n",
       "         4.5153746 , -17.21609204, -76.65101066, -58.54524721,\n",
       "       -31.72105372, -29.90833573, -33.31905982,  -9.08757373,\n",
       "       -47.64450831, -66.15301818, -16.95635228, -22.2490979 ,\n",
       "       -11.48967873, -18.10558689, -68.65406049, -47.02583627,\n",
       "       -40.11867162, -35.50213005, -17.19770472, -63.10289587,\n",
       "       -16.95455017, -55.10237987, -28.71264328, -68.81583326,\n",
       "       -68.31028592,  -6.25938064, -25.84000941, -38.0087759 ,\n",
       "       -27.90919644, -15.44718919, -27.45902872, -19.59780456,\n",
       "        12.33456663, -23.03869008, -35.94467431, -30.02841729,\n",
       "       -70.06672449, -29.48741422, -52.98827414, -24.97021223,\n",
       "       -12.32847559, -48.00995397,  -2.49972804, -59.92458829,\n",
       "       -31.18117495,  -8.65733037, -71.34892869, -57.01126273,\n",
       "       -21.09874868, -21.538526  , -69.34308059, -18.63523557,\n",
       "       -39.91447429, -57.26583161,  -0.8451503 , -21.88387701,\n",
       "       -22.6411737 , -29.21265128, -35.15711238, -20.25863035,\n",
       "       -11.40293419,   3.8726895 ,   6.09022435,   1.42885031,\n",
       "        -7.82720289, -39.35183332,  12.21051084, -75.10177489,\n",
       "       -75.38152723, -50.41814111, -11.55445549, -48.4587467 ,\n",
       "       -75.44083042, -29.98059301, -64.11571538,  -7.16586031,\n",
       "        -6.52458125, -18.97254869, -33.71629877, -17.76227469,\n",
       "       -45.59393984, -33.5374302 , -34.08696979, -73.31506804,\n",
       "       -15.43467492,  12.16748705, -56.45930639,  -6.03196584,\n",
       "       -49.08451445, -16.5421539 ,  -2.05950159, -11.81050225,\n",
       "       -33.47407389, -50.77177315, -10.6291175 , -17.67506066,\n",
       "        -5.0783464 , -25.25783469, -16.61522448,   3.9112095 ,\n",
       "       -46.75613228, -12.89886195, -25.74795978, -16.31803238,\n",
       "       -23.55111436, -83.48235218,  -6.23513464, -19.83974395,\n",
       "       -20.06239865, -26.65472377, -27.11282546, -39.63710799,\n",
       "       -39.81315619, -27.43673396, -24.11831326, -21.2452453 ,\n",
       "       -10.49825314, -19.39896616, -41.95764437, -43.62358872,\n",
       "       -16.06846081, -64.09610815, -24.75467943, -56.57392957,\n",
       "       -13.50010039, -30.01586699,   3.9371811 , -44.71714078,\n",
       "        -8.69372502,   1.58875826,  -2.76256008, -11.91890853,\n",
       "         7.5878479 ,  -7.25894996, -46.73819304, -49.19666639,\n",
       "        -4.80433055, -19.61035682, -24.30546542, -48.98795385,\n",
       "       -14.98145844, -24.83604362, -16.93964099, -19.46795745,\n",
       "       -15.77212635, -17.00123782, -39.23704054, -31.37463882,\n",
       "        -9.42205275, -71.381703  , -22.17498369, -14.72996119,\n",
       "       -23.579932  , -34.49385918,  -1.17650661, -32.90830743,\n",
       "       -10.82273226, -18.26233059,  -8.29319476, -44.84200475,\n",
       "       -22.59256671, -61.73628032, -47.12994101, -65.62596121,\n",
       "       -33.3645283 , -24.00484879, -29.33174747, -65.22708813,\n",
       "         1.4398041 ,  -4.56096143, -25.25856918, -22.46489659,\n",
       "       -54.43080386, -16.81747445, -11.28764969, -35.25846342,\n",
       "        -5.57322882, -14.93096574, -70.95371125,  -6.50505475,\n",
       "        -1.22951334, -37.87560394, -23.68957651, -68.29973762,\n",
       "        14.93799176, -62.55695974,  10.14787251, -24.44803441,\n",
       "       -32.85383187, -14.32964321, -85.68617093, -13.16407784,\n",
       "         9.27785765, -17.32732531, -36.06508827, -17.04718815,\n",
       "       -19.71317089, -32.7265023 ,  -5.36350374,   7.68314557,\n",
       "         9.20400135,   5.7653027 , -35.96364564, -13.02396844,\n",
       "       -54.87492891, -41.61773642,   5.93729562, -79.11926927,\n",
       "       -16.01405103, -19.721966  , -10.96333834, -42.55201845,\n",
       "       -19.70969976, -16.20508401, -18.68736057, -17.94408397,\n",
       "        -7.17471986, -20.54731313, -16.81078137, -70.69032766,\n",
       "        -9.81787633, -32.8705032 , -18.97782855, -21.37931127,\n",
       "       -25.15062704, -17.10999652, -13.52376923, -23.76122648,\n",
       "        11.36500471, -14.50023335, -33.86316309, -13.7170765 ,\n",
       "       -50.52181209, -20.26636334, -56.12709375, -29.24284311,\n",
       "       -22.10087716, -31.39326121, -68.99344392, -60.34419377,\n",
       "        14.35284087,   8.69501956, -25.31397294,   2.38290294,\n",
       "         5.0456684 , -19.56496305, -59.19929512, -10.05800245,\n",
       "       -29.6622075 , -27.40200987,   6.13009513, -80.46967551,\n",
       "       -34.87549905, -49.84649013, -36.03972106, -48.50250169,\n",
       "       -19.96818177, -62.05779428,  -3.23802495, -25.3291765 ,\n",
       "       -65.14032999,  -9.42738971, -23.31760052,  19.38627174,\n",
       "       -18.84549759,  -4.47312743, -13.77219964, -21.88098645,\n",
       "       -43.41387247, -51.85062792, -28.83924692, -13.90474392,\n",
       "        -2.51952669,  -6.16021677,   3.14859162, -15.33999833,\n",
       "       -41.16638264, -25.89749182,  14.30192243, -17.88826399,\n",
       "        14.67464396, -33.65792719,   4.82437748, -14.42662204,\n",
       "       -54.22947221, -50.49140424, -30.54698288, -38.72571457,\n",
       "       -23.46187401, -24.87728311, -14.5056575 , -23.7246647 ,\n",
       "       -28.07012057, -19.63725289, -28.66195693, -20.37704414,\n",
       "       -32.1676012 , -11.15582038, -17.95933633, -24.54364527,\n",
       "       -24.60835759,  10.73684819, -16.68575625, -38.50789304,\n",
       "       -15.87670805, -37.05264694, -15.79379101, -68.6949023 ,\n",
       "       -33.64821334, -43.60838868, -28.74767527,  -9.88985964,\n",
       "       -67.16453181, -33.49896584, -45.89921319, -14.36741152,\n",
       "       -38.29011156, -14.76251534, -70.44236638, -11.19636568,\n",
       "       -41.46524662, -32.38985133, -20.86085574, -27.68982276,\n",
       "       -16.06080598, -31.96319096,  -8.48429125, -22.10455497,\n",
       "       -34.06029281, -12.47064046, -36.15122317, -36.57975973,\n",
       "       -22.46161949,   4.47535622, -20.80774149,  -3.75031957,\n",
       "       -20.31649447, -32.67839227, -41.10715936, -25.46028103,\n",
       "       -19.73670793, -47.8330306 , -29.85790605, -45.24592708,\n",
       "       -71.65711239,  -5.93562717, -32.93703057,   1.89653008,\n",
       "        11.76385106,   7.35778784, -30.93189607, -63.94246454,\n",
       "       -23.41437639,  -5.43429013, -33.46419216, -24.11268989,\n",
       "       -67.49721077, -34.30067046, -34.2333137 , -31.61595229,\n",
       "       -52.8680299 , -22.89228515,  -8.16023368, -17.73981277,\n",
       "       -26.98685832, -32.38777601, -28.96089785, -67.25184687,\n",
       "       -46.49545503, -16.11292118])"
      ]
     },
     "execution_count": 12,
     "metadata": {},
     "output_type": "execute_result"
    }
   ],
   "source": [
    "log_reg.decision_function(X_test)"
   ]
  },
  {
   "cell_type": "code",
   "execution_count": 13,
   "metadata": {},
   "outputs": [
    {
     "data": {
      "text/plain": [
       "array([-22.05705181, -33.02949573, -16.21340238, -80.37917009,\n",
       "       -48.25125209, -24.54010044, -44.39166152, -25.04298784,\n",
       "        -0.97831701, -19.71745321])"
      ]
     },
     "execution_count": 13,
     "metadata": {},
     "output_type": "execute_result"
    }
   ],
   "source": [
    "log_reg.decision_function(X_test)[: 10]"
   ]
  },
  {
   "cell_type": "code",
   "execution_count": 14,
   "metadata": {},
   "outputs": [
    {
     "data": {
      "text/plain": [
       "array([0, 0, 0, 0, 0, 0, 0, 0, 0, 0])"
      ]
     },
     "execution_count": 14,
     "metadata": {},
     "output_type": "execute_result"
    }
   ],
   "source": [
    "log_reg.predict(X_test)[: 10]"
   ]
  },
  {
   "cell_type": "code",
   "execution_count": 15,
   "metadata": {},
   "outputs": [],
   "source": [
    "decision_scores = log_reg.decision_function(X_test)"
   ]
  },
  {
   "cell_type": "code",
   "execution_count": 19,
   "metadata": {},
   "outputs": [
    {
     "data": {
      "text/plain": [
       "-85.68617092628044"
      ]
     },
     "execution_count": 19,
     "metadata": {},
     "output_type": "execute_result"
    }
   ],
   "source": [
    "np.min(decision_scores)"
   ]
  },
  {
   "cell_type": "code",
   "execution_count": 20,
   "metadata": {},
   "outputs": [
    {
     "data": {
      "text/plain": [
       "19.889573725637934"
      ]
     },
     "execution_count": 20,
     "metadata": {},
     "output_type": "execute_result"
    }
   ],
   "source": [
    "np.max(decision_scores)"
   ]
  },
  {
   "cell_type": "code",
   "execution_count": 21,
   "metadata": {},
   "outputs": [],
   "source": [
    "y_predict_2 = np.array(decision_scores >= 5, dtype='int')"
   ]
  },
  {
   "cell_type": "code",
   "execution_count": 22,
   "metadata": {},
   "outputs": [
    {
     "data": {
      "text/plain": [
       "array([[404,   1],\n",
       "       [ 21,  24]], dtype=int64)"
      ]
     },
     "execution_count": 22,
     "metadata": {},
     "output_type": "execute_result"
    }
   ],
   "source": [
    "confusion_matrix(y_test, y_predict_2)"
   ]
  },
  {
   "cell_type": "code",
   "execution_count": 23,
   "metadata": {},
   "outputs": [
    {
     "data": {
      "text/plain": [
       "0.96"
      ]
     },
     "execution_count": 23,
     "metadata": {},
     "output_type": "execute_result"
    }
   ],
   "source": [
    "precision_score(y_test, y_predict_2)"
   ]
  },
  {
   "cell_type": "code",
   "execution_count": 24,
   "metadata": {},
   "outputs": [
    {
     "data": {
      "text/plain": [
       "0.5333333333333333"
      ]
     },
     "execution_count": 24,
     "metadata": {},
     "output_type": "execute_result"
    }
   ],
   "source": [
    "recall_score(y_test, y_predict_2)"
   ]
  },
  {
   "cell_type": "code",
   "execution_count": 25,
   "metadata": {},
   "outputs": [
    {
     "data": {
      "text/plain": [
       "array([[390,  15],\n",
       "       [  5,  40]], dtype=int64)"
      ]
     },
     "execution_count": 25,
     "metadata": {},
     "output_type": "execute_result"
    }
   ],
   "source": [
    "y_predict_3 = np.array(decision_scores >= -5, dtype='int')\n",
    "confusion_matrix(y_test, y_predict_3)"
   ]
  },
  {
   "cell_type": "code",
   "execution_count": 26,
   "metadata": {},
   "outputs": [
    {
     "data": {
      "text/plain": [
       "0.7272727272727273"
      ]
     },
     "execution_count": 26,
     "metadata": {},
     "output_type": "execute_result"
    }
   ],
   "source": [
    "precision_score(y_test, y_predict_3)"
   ]
  },
  {
   "cell_type": "code",
   "execution_count": 27,
   "metadata": {},
   "outputs": [
    {
     "data": {
      "text/plain": [
       "0.8888888888888888"
      ]
     },
     "execution_count": 27,
     "metadata": {},
     "output_type": "execute_result"
    }
   ],
   "source": [
    "recall_score(y_test, y_predict_3)"
   ]
  },
  {
   "cell_type": "code",
   "execution_count": null,
   "metadata": {},
   "outputs": [],
   "source": []
  }
 ],
 "metadata": {
  "kernelspec": {
   "display_name": "Python 3",
   "language": "python",
   "name": "python3"
  },
  "language_info": {
   "codemirror_mode": {
    "name": "ipython",
    "version": 3
   },
   "file_extension": ".py",
   "mimetype": "text/x-python",
   "name": "python",
   "nbconvert_exporter": "python",
   "pygments_lexer": "ipython3",
   "version": "3.7.1"
  }
 },
 "nbformat": 4,
 "nbformat_minor": 2
}
