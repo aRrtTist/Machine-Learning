{
 "cells": [
  {
   "cell_type": "markdown",
   "metadata": {},
   "source": [
    "# 数据归一化处理"
   ]
  },
  {
   "cell_type": "code",
   "execution_count": 1,
   "metadata": {},
   "outputs": [],
   "source": [
    "import numpy as np\n",
    "import matplotlib.pyplot as plt"
   ]
  },
  {
   "cell_type": "markdown",
   "metadata": {},
   "source": [
    "### 最值归一化 Normalization"
   ]
  },
  {
   "cell_type": "code",
   "execution_count": 2,
   "metadata": {},
   "outputs": [
    {
     "data": {
      "text/plain": [
       "array([34, 51, 99, 94, 91, 70, 31,  2, 56, 20, 13, 18,  3, 91, 68, 46,  0,\n",
       "       61, 64, 32,  5, 17, 35, 37, 29, 46, 89, 12, 19, 33, 63, 67, 58, 86,\n",
       "       81, 34, 18, 79, 51,  6, 88, 56, 53, 29, 18, 55, 48, 75, 27, 23, 84,\n",
       "       30, 98, 46, 14, 17, 46, 55,  6,  5, 34, 35, 89, 40, 97, 56, 19, 10,\n",
       "       73, 23, 84, 52, 88, 22, 68,  8, 60, 78, 80, 43, 27, 14,  9, 74, 66,\n",
       "       68, 82, 66, 13, 79, 23, 91, 29, 19, 24, 26, 13, 43, 49, 15])"
      ]
     },
     "execution_count": 2,
     "metadata": {},
     "output_type": "execute_result"
    }
   ],
   "source": [
    "x = np.random.randint(0, 100, size=100)\n",
    "x"
   ]
  },
  {
   "cell_type": "code",
   "execution_count": 3,
   "metadata": {},
   "outputs": [
    {
     "data": {
      "text/plain": [
       "array([0.34343434, 0.51515152, 1.        , 0.94949495, 0.91919192,\n",
       "       0.70707071, 0.31313131, 0.02020202, 0.56565657, 0.2020202 ,\n",
       "       0.13131313, 0.18181818, 0.03030303, 0.91919192, 0.68686869,\n",
       "       0.46464646, 0.        , 0.61616162, 0.64646465, 0.32323232,\n",
       "       0.05050505, 0.17171717, 0.35353535, 0.37373737, 0.29292929,\n",
       "       0.46464646, 0.8989899 , 0.12121212, 0.19191919, 0.33333333,\n",
       "       0.63636364, 0.67676768, 0.58585859, 0.86868687, 0.81818182,\n",
       "       0.34343434, 0.18181818, 0.7979798 , 0.51515152, 0.06060606,\n",
       "       0.88888889, 0.56565657, 0.53535354, 0.29292929, 0.18181818,\n",
       "       0.55555556, 0.48484848, 0.75757576, 0.27272727, 0.23232323,\n",
       "       0.84848485, 0.3030303 , 0.98989899, 0.46464646, 0.14141414,\n",
       "       0.17171717, 0.46464646, 0.55555556, 0.06060606, 0.05050505,\n",
       "       0.34343434, 0.35353535, 0.8989899 , 0.4040404 , 0.97979798,\n",
       "       0.56565657, 0.19191919, 0.1010101 , 0.73737374, 0.23232323,\n",
       "       0.84848485, 0.52525253, 0.88888889, 0.22222222, 0.68686869,\n",
       "       0.08080808, 0.60606061, 0.78787879, 0.80808081, 0.43434343,\n",
       "       0.27272727, 0.14141414, 0.09090909, 0.74747475, 0.66666667,\n",
       "       0.68686869, 0.82828283, 0.66666667, 0.13131313, 0.7979798 ,\n",
       "       0.23232323, 0.91919192, 0.29292929, 0.19191919, 0.24242424,\n",
       "       0.26262626, 0.13131313, 0.43434343, 0.49494949, 0.15151515])"
      ]
     },
     "execution_count": 3,
     "metadata": {},
     "output_type": "execute_result"
    }
   ],
   "source": [
    "(x - np.min(x)) / (np.max(x) - np.min(x))"
   ]
  },
  {
   "cell_type": "code",
   "execution_count": 5,
   "metadata": {},
   "outputs": [
    {
     "data": {
      "text/plain": [
       "array([[84, 41],\n",
       "       [49, 43],\n",
       "       [50, 73],\n",
       "       [14,  8],\n",
       "       [33, 74],\n",
       "       [87,  6],\n",
       "       [45,  3],\n",
       "       [95, 37],\n",
       "       [54, 84],\n",
       "       [37, 44]])"
      ]
     },
     "execution_count": 5,
     "metadata": {},
     "output_type": "execute_result"
    }
   ],
   "source": [
    "X = np.random.randint(0, 100, (50, 2))\n",
    "X[:10, :]"
   ]
  },
  {
   "cell_type": "code",
   "execution_count": 6,
   "metadata": {},
   "outputs": [],
   "source": [
    "X = np.array(X, dtype=float)"
   ]
  },
  {
   "cell_type": "code",
   "execution_count": 7,
   "metadata": {},
   "outputs": [
    {
     "data": {
      "text/plain": [
       "array([[84., 41.],\n",
       "       [49., 43.],\n",
       "       [50., 73.],\n",
       "       [14.,  8.],\n",
       "       [33., 74.],\n",
       "       [87.,  6.],\n",
       "       [45.,  3.],\n",
       "       [95., 37.],\n",
       "       [54., 84.],\n",
       "       [37., 44.]])"
      ]
     },
     "execution_count": 7,
     "metadata": {},
     "output_type": "execute_result"
    }
   ],
   "source": [
    "X[:10, :]"
   ]
  },
  {
   "cell_type": "code",
   "execution_count": 8,
   "metadata": {},
   "outputs": [],
   "source": [
    "X[:, 0] = (X[:, 0] - np.min(X[:, 0])) / (np.max(X[:, 0]) - np.min(X[:, 0]))"
   ]
  },
  {
   "cell_type": "code",
   "execution_count": 9,
   "metadata": {},
   "outputs": [],
   "source": [
    "X[:, 1] = (X[:, 1] - np.min(X[:, 1])) / (np.max(X[:, 1]) - np.min(X[:, 1]))"
   ]
  },
  {
   "cell_type": "code",
   "execution_count": 10,
   "metadata": {},
   "outputs": [
    {
     "data": {
      "text/plain": [
       "array([[0.86597938, 0.42391304],\n",
       "       [0.50515464, 0.44565217],\n",
       "       [0.51546392, 0.77173913],\n",
       "       [0.1443299 , 0.06521739],\n",
       "       [0.34020619, 0.7826087 ],\n",
       "       [0.89690722, 0.04347826],\n",
       "       [0.46391753, 0.01086957],\n",
       "       [0.97938144, 0.38043478],\n",
       "       [0.55670103, 0.89130435],\n",
       "       [0.3814433 , 0.45652174]])"
      ]
     },
     "execution_count": 10,
     "metadata": {},
     "output_type": "execute_result"
    }
   ],
   "source": [
    "X[:10, :]"
   ]
  },
  {
   "cell_type": "code",
   "execution_count": 11,
   "metadata": {},
   "outputs": [
    {
     "data": {
      "image/png": "[encoded data removed]",
      "text/plain": [
       "<Figure size 432x288 with 1 Axes>"
      ]
     },
     "metadata": {
      "needs_background": "light"
     },
     "output_type": "display_data"
    }
   ],
   "source": [
    "plt.scatter(X[:, 0], X[:, 1])\n",
    "plt.show()"
   ]
  },
  {
   "cell_type": "code",
   "execution_count": 12,
   "metadata": {},
   "outputs": [
    {
     "data": {
      "text/plain": [
       "0.49896907216494846"
      ]
     },
     "execution_count": 12,
     "metadata": {},
     "output_type": "execute_result"
    }
   ],
   "source": [
    "np.mean(X[:, 0])"
   ]
  },
  {
   "cell_type": "code",
   "execution_count": 13,
   "metadata": {},
   "outputs": [
    {
     "data": {
      "text/plain": [
       "0.2810408360643763"
      ]
     },
     "execution_count": 13,
     "metadata": {},
     "output_type": "execute_result"
    }
   ],
   "source": [
    "np.std(X[:, 0])"
   ]
  },
  {
   "cell_type": "code",
   "execution_count": 14,
   "metadata": {},
   "outputs": [
    {
     "data": {
      "text/plain": [
       "0.5013043478260869"
      ]
     },
     "execution_count": 14,
     "metadata": {},
     "output_type": "execute_result"
    }
   ],
   "source": [
    "np.mean(X[:, 1])"
   ]
  },
  {
   "cell_type": "code",
   "execution_count": 15,
   "metadata": {},
   "outputs": [
    {
     "data": {
      "text/plain": [
       "0.28579011956077716"
      ]
     },
     "execution_count": 15,
     "metadata": {},
     "output_type": "execute_result"
    }
   ],
   "source": [
    "np.std(X[:, 1])"
   ]
  },
  {
   "cell_type": "markdown",
   "metadata": {},
   "source": [
    "### 均值方差归一化"
   ]
  },
  {
   "cell_type": "code",
   "execution_count": 16,
   "metadata": {},
   "outputs": [],
   "source": [
    "X2 = np.random.randint(0, 100, (50, 2))"
   ]
  },
  {
   "cell_type": "code",
   "execution_count": 17,
   "metadata": {},
   "outputs": [],
   "source": [
    "X2 = np.array(X2, dtype=float)"
   ]
  },
  {
   "cell_type": "code",
   "execution_count": 18,
   "metadata": {},
   "outputs": [],
   "source": [
    "X2[:, 0] = (X2[:, 0] - np.mean(X2[:, 0])) / np.std(X2[:, 0])"
   ]
  },
  {
   "cell_type": "code",
   "execution_count": 19,
   "metadata": {},
   "outputs": [],
   "source": [
    "X2[:, 1] = (X2[:, 1] - np.mean(X2[:, 1])) / np.std(X2[:, 1])"
   ]
  },
  {
   "cell_type": "code",
   "execution_count": 21,
   "metadata": {},
   "outputs": [
    {
     "data": {
      "image/png": "[encoded data removed]",
      "text/plain": [
       "<Figure size 432x288 with 1 Axes>"
      ]
     },
     "metadata": {
      "needs_background": "light"
     },
     "output_type": "display_data"
    }
   ],
   "source": [
    "plt.scatter(X2[:, 0], X2[:, 1])\n",
    "plt.show()"
   ]
  },
  {
   "cell_type": "code",
   "execution_count": 22,
   "metadata": {},
   "outputs": [
    {
     "data": {
      "text/plain": [
       "-3.219646771412954e-17"
      ]
     },
     "execution_count": 22,
     "metadata": {},
     "output_type": "execute_result"
    }
   ],
   "source": [
    "np.mean(X2[:, 0])"
   ]
  },
  {
   "cell_type": "code",
   "execution_count": 23,
   "metadata": {},
   "outputs": [
    {
     "data": {
      "text/plain": [
       "1.0"
      ]
     },
     "execution_count": 23,
     "metadata": {},
     "output_type": "execute_result"
    }
   ],
   "source": [
    "np.std(X2[:, 0])"
   ]
  },
  {
   "cell_type": "code",
   "execution_count": 24,
   "metadata": {},
   "outputs": [
    {
     "data": {
      "text/plain": [
       "-4.662936703425657e-17"
      ]
     },
     "execution_count": 24,
     "metadata": {},
     "output_type": "execute_result"
    }
   ],
   "source": [
    "np.mean(X2[:, 1])"
   ]
  },
  {
   "cell_type": "code",
   "execution_count": 25,
   "metadata": {},
   "outputs": [
    {
     "data": {
      "text/plain": [
       "1.0"
      ]
     },
     "execution_count": 25,
     "metadata": {},
     "output_type": "execute_result"
    }
   ],
   "source": [
    "np.std(X2[:, 1])"
   ]
  },
  {
   "cell_type": "code",
   "execution_count": null,
   "metadata": {},
   "outputs": [],
   "source": []
  }
 ],
 "metadata": {
  "kernelspec": {
   "display_name": "Python 3",
   "language": "python",
   "name": "python3"
  },
  "language_info": {
   "codemirror_mode": {
    "name": "ipython",
    "version": 3
   },
   "file_extension": ".py",
   "mimetype": "text/x-python",
   "name": "python",
   "nbconvert_exporter": "python",
   "pygments_lexer": "ipython3",
   "version": "3.7.1"
  }
 },
 "nbformat": 4,
 "nbformat_minor": 2
}
